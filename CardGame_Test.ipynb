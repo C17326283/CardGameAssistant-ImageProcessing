{
 "cells": [
  {
   "cell_type": "code",
   "execution_count": 9,
   "metadata": {},
   "outputs": [],
   "source": [
    "#Imports\n",
    "import cv2\n",
    "import numpy as np\n",
    "from matplotlib import pyplot as plt\n",
    "from matplotlib import image as image\n",
    "import easygui"
   ]
  },
  {
   "cell_type": "code",
   "execution_count": 2,
   "metadata": {},
   "outputs": [],
   "source": [
    "#1 Open a user-selected image\n",
    "#f = easygui.fileopenbox(filetypes=[\"*.jpg\",\"*.jpeg\",\"*.png\"])#open user file select\n",
    "#I = cv2.imread(f)#set a file to work with\n",
    "#Original = I.copy()#create a copy incase theres a problem"
   ]
  },
  {
   "cell_type": "code",
   "execution_count": 3,
   "metadata": {},
   "outputs": [],
   "source": [
    "Img = cv2.imread(\"Cards.jpg\")"
   ]
  },
  {
   "cell_type": "code",
   "execution_count": 13,
   "metadata": {},
   "outputs": [
    {
     "name": "stdout",
     "output_type": "stream",
     "text": [
      "\f",
      "\n",
      "sample\n",
      "\f",
      "\n"
     ]
    }
   ],
   "source": [
    "import pytesseract\n",
    "pytesseract.pytesseract.tesseract_cmd = r'C:\\Program Files\\Tesseract-OCR\\tesseract'\n",
    "\n",
    "ImgLetter = cv2.imread(\"sampleLetter3.png\")\n",
    "ImgText = cv2.imread(\"sampleText.png\")\n",
    "\n",
    "#ImgLetterB = cv2.cvtColor(ImgLetter, cv2.COLOR_BGR2GRAY)\n",
    "\n",
    "\n",
    "\n",
    "print(pytesseract.image_to_string(ImgLetter))\n",
    "print(pytesseract.image_to_string(ImgText))"
   ]
  },
  {
   "cell_type": "code",
   "execution_count": 14,
   "metadata": {},
   "outputs": [
    {
     "name": "stdout",
     "output_type": "stream",
     "text": [
      "K\n",
      "\f",
      "\n"
     ]
    }
   ],
   "source": [
    "image = cv2.imread('sampleLetter3.png',0)\n",
    "\n",
    "thresh = cv2.threshold(image, 150, 255, cv2.THRESH_BINARY_INV)[1]\n",
    "\n",
    "result = cv2.GaussianBlur(thresh, (5,5), 0)\n",
    "result = 255 - result\n",
    "\n",
    "data = pytesseract.image_to_string(result, lang='eng',config='--psm 6')\n",
    "print(data)"
   ]
  },
  {
   "cell_type": "code",
   "execution_count": 46,
   "metadata": {
    "collapsed": true,
    "jupyter": {
     "outputs_hidden": true
    }
   },
   "outputs": [
    {
     "name": "stdout",
     "output_type": "stream",
     "text": [
      "The card is:  K\n",
      "\f",
      "\n"
     ]
    }
   ],
   "source": [
    "import pytesseract\n",
    "\n",
    "#Path to your Tesseract-OCR\n",
    "pytesseract.pytesseract.tesseract_cmd = r'C:\\Program Files\\Tesseract-OCR\\tesseract'\n",
    "#Imput takes small section of top corner of card\n",
    "image = cv2.imread('sampleLetter.png',0)\n",
    "#Gets a threshold\n",
    "thresh = cv2.threshold(image, 150, 255, cv2.THRESH_BINARY_INV)[1]\n",
    "#Blurs it with threshold\n",
    "imBlur = cv2.GaussianBlur(thresh, (5,5), 0)\n",
    "imBlur = 255 - imBlur\n",
    "\n",
    "cv2.imshow(\"imBlur\", imBlur)\n",
    "key = cv2.waitKey(0)\n",
    "#convert to text from section of image\n",
    "textFromImage = pytesseract.image_to_string(result, lang='eng',config='--psm 6')\n",
    "print(\"The card is: \",textFromImage)"
   ]
  },
  {
   "cell_type": "code",
   "execution_count": null,
   "metadata": {},
   "outputs": [],
   "source": []
  },
  {
   "cell_type": "code",
   "execution_count": null,
   "metadata": {},
   "outputs": [],
   "source": []
  },
  {
   "cell_type": "code",
   "execution_count": 7,
   "metadata": {},
   "outputs": [
    {
     "ename": "NameError",
     "evalue": "name 'Image' is not defined",
     "output_type": "error",
     "traceback": [
      "\u001b[1;31m---------------------------------------------------------------------------\u001b[0m",
      "\u001b[1;31mNameError\u001b[0m                                 Traceback (most recent call last)",
      "\u001b[1;32m<ipython-input-7-b54c9b455cf0>\u001b[0m in \u001b[0;36m<module>\u001b[1;34m\u001b[0m\n\u001b[0;32m      2\u001b[0m \u001b[1;32mfrom\u001b[0m \u001b[0mpytesseract\u001b[0m \u001b[1;32mimport\u001b[0m \u001b[0mimage_to_string\u001b[0m\u001b[1;33m\u001b[0m\u001b[1;33m\u001b[0m\u001b[0m\n\u001b[0;32m      3\u001b[0m \u001b[1;33m\u001b[0m\u001b[0m\n\u001b[1;32m----> 4\u001b[1;33m \u001b[0mprint\u001b[0m\u001b[1;33m(\u001b[0m\u001b[0mimage_to_string\u001b[0m\u001b[1;33m(\u001b[0m\u001b[0mImage\u001b[0m\u001b[1;33m.\u001b[0m\u001b[0mopen\u001b[0m\u001b[1;33m(\u001b[0m\u001b[1;34m'test.png'\u001b[0m\u001b[1;33m)\u001b[0m\u001b[1;33m)\u001b[0m\u001b[1;33m)\u001b[0m\u001b[1;33m\u001b[0m\u001b[1;33m\u001b[0m\u001b[0m\n\u001b[0m",
      "\u001b[1;31mNameError\u001b[0m: name 'Image' is not defined"
     ]
    }
   ],
   "source": [
    "import Image\n",
    "from tesseract import image_to_string\n",
    "\n",
    "print(image_to_string(Image.open('test.png')))"
   ]
  },
  {
   "cell_type": "code",
   "execution_count": null,
   "metadata": {},
   "outputs": [],
   "source": [
    "Img = cv2.imread(\"Cards.jpg\")\n",
    "symbols = cv2.imread(\"symbols.jpg\")\n",
    "club = cv2.imread(\"clubCust.png\")\n",
    "diamond = cv2.imread(\"diamondCust.png\")\n",
    "heart = cv2.imread(\"heartCust.png\")\n",
    "spade = cv2.imread(\"spadeCust.png\")\n",
    "\n",
    "#w, h = heart.shape[:-1]\n",
    "\n",
    "#res = cv2.matchTemplate(symbols, heart, cv2.TM_CCOEFF_NORMED)\n",
    "#threshold = .8\n",
    "#loc = np.where(res >= threshold)\n",
    "#for pt in zip(*loc[::-1]):  # Switch collumns and rows\n",
    "#    cv2.rectangle(symbols, pt, (pt[0] + w, pt[1] + h), (0, 0, 255), 2)\n",
    "#cv2.imwrite('result.png', symbols)\n",
    "#cv2.imshow(\"window\", symbols)\n",
    "#cv2.waitKey(0)\n",
    "\n",
    "\n",
    "\n",
    "\n",
    "#method = cv2.TM_SQDIFF_NORMED\n",
    "#result = cv2.matchTemplate(heart, symbols, method)\n",
    "#\n",
    "## We want the minimum squared difference\n",
    "#mn,_,mnLoc,_ = cv2.minMaxLoc(result)\n",
    "#\n",
    "## Draw the rectangle:\n",
    "## Extract the coordinates of our best match\n",
    "#MPx,MPy = mnLoc\n",
    "#\n",
    "## Step 2: Get the size of the template. This is the same size as the match.\n",
    "#trows,tcols = heart.shape[:2]\n",
    "#\n",
    "## Step 3: Draw the rectangle on large_image\n",
    "#cv2.rectangle(symbols, (MPx,MPy),(MPx+tcols,MPy+trows),(0,0,255),2)\n",
    "#\n",
    "## Display the original image with the rectangle around the match.\n",
    "#cv2.imshow('output',symbols)\n",
    "#\n",
    "## The image is only displayed if we call this\n",
    "#cv2.waitKey(0)\n",
    "\n",
    "\n",
    "w, h = heart.shape[:-1]\n",
    "\n",
    "# All the 6 methods for comparison in a list\n",
    "methods = ['cv2.TM_CCOEFF']\n",
    "\n",
    "for meth in methods:\n",
    "    symbols = symbols.copy()\n",
    "    method = eval(meth)\n",
    "\n",
    "    # Apply template Matching\n",
    "    res = cv2.matchTemplate(symbols,heart,method)\n",
    "    min_val, max_val, min_loc, max_loc = cv2.minMaxLoc(res)\n",
    "\n",
    "    # If the method is TM_SQDIFF or TM_SQDIFF_NORMED, take minimum\n",
    "    if method in [cv2.TM_SQDIFF, cv2.TM_SQDIFF_NORMED]:\n",
    "        top_left = min_loc\n",
    "    else:\n",
    "        top_left = max_loc\n",
    "    bottom_right = (top_left[0] + w, top_left[1] + h)\n",
    "\n",
    "    cv2.rectangle(symbols,top_left, bottom_right, 255, 2)\n",
    "\n",
    "    plt.subplot(121),plt.imshow(res,cmap = 'gray')\n",
    "    plt.title('Matching Result'), plt.xticks([]), plt.yticks([])\n",
    "    plt.subplot(122),plt.imshow(symbols,cmap = 'gray')\n",
    "    plt.title('Detected Point'), plt.xticks([]), plt.yticks([])\n",
    "    plt.suptitle(meth)\n",
    "\n",
    "    plt.show()"
   ]
  },
  {
   "cell_type": "code",
   "execution_count": null,
   "metadata": {},
   "outputs": [],
   "source": []
  }
 ],
 "metadata": {
  "kernelspec": {
   "display_name": "Python 3",
   "language": "python",
   "name": "python3"
  },
  "language_info": {
   "codemirror_mode": {
    "name": "ipython",
    "version": 3
   },
   "file_extension": ".py",
   "mimetype": "text/x-python",
   "name": "python",
   "nbconvert_exporter": "python",
   "pygments_lexer": "ipython3",
   "version": "3.8.3"
  }
 },
 "nbformat": 4,
 "nbformat_minor": 4
}

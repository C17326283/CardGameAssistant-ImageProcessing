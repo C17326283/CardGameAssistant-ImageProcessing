{
 "cells": [
  {
   "cell_type": "markdown",
   "metadata": {},
   "source": [
    "This method reads in the four suit template images and then the suit you are testing."
   ]
  },
  {
   "cell_type": "code",
   "execution_count": 1,
   "metadata": {},
   "outputs": [],
   "source": [
    "#Imports\n",
    "import cv2\n",
    "import numpy as np"
   ]
  },
  {
   "cell_type": "code",
   "execution_count": 2,
   "metadata": {},
   "outputs": [],
   "source": [
    "# Reading in suit templates\n",
    "club = cv2.imread(\"clubs.png\")\n",
    "diamond = cv2.imread(\"diamonds.png\")\n",
    "heart = cv2.imread(\"hearts.png\")\n",
    "spade = cv2.imread(\"spades.png\")\n",
    "# Reading in template\n",
    "inputTestImage = cv2.imread(\"kingClub.png\")"
   ]
  },
  {
   "cell_type": "code",
   "execution_count": 3,
   "metadata": {},
   "outputs": [],
   "source": [
    "def suitComparison(club, diamond, heart, spade, inputTestImage):\n",
    "    # Variables for comparison\n",
    "    best_rank_match_diff = 1000000000\n",
    "    match = \"none\"\n",
    "    \n",
    "    # Performs comparison with heart.\n",
    "    height, width, _ = heart.shape\n",
    "    dim = (width, height)\n",
    "    testImage = cv2.resize(inputTestImage, dim)\n",
    "\n",
    "    diff_img = cv2.absdiff(testImage, heart)\n",
    "    rank_diff = int(np.sum(diff_img)/255)               \n",
    "    if rank_diff < best_rank_match_diff:\n",
    "        best_rank_match_diff = rank_diff\n",
    "        match = \"heart\"\n",
    "\n",
    "\n",
    "    # Performs comparison with spade.\n",
    "    height, width, _ = spade.shape\n",
    "    dim = (width, height)\n",
    "    testImage = cv2.resize(inputTestImage, dim)\n",
    "\n",
    "    diff_img = cv2.absdiff(testImage, spade)\n",
    "    rank_diff = int(np.sum(diff_img)/255)           \n",
    "    if rank_diff < best_rank_match_diff:\n",
    "        best_rank_match_diff = rank_diff\n",
    "        match = \"spade\"\n",
    "\n",
    "\n",
    "    # Performs comparison with club.\n",
    "    height, width, _ = club.shape\n",
    "    dim = (width, height)\n",
    "    testImage = cv2.resize(inputTestImage, dim)\n",
    "\n",
    "    diff_img = cv2.absdiff(testImage, club)\n",
    "    rank_diff = int(np.sum(diff_img)/255)             \n",
    "    if rank_diff < best_rank_match_diff:\n",
    "        best_rank_match_diff = rank_diff\n",
    "        match = \"club\"\n",
    "\n",
    "\n",
    "    # Performs comparison with diamond.\n",
    "    height, width, _ = diamond.shape\n",
    "    dim = (width, height)\n",
    "    testImage = cv2.resize(inputTestImage, dim)\n",
    "\n",
    "    diff_img = cv2.absdiff(testImage, diamond)\n",
    "    rank_diff = int(np.sum(diff_img)/255)      \n",
    "    if rank_diff < best_rank_match_diff:\n",
    "        best_rank_match_diff = rank_diff\n",
    "        match = \"diamond\"\n",
    "\n",
    "\n",
    "    # Prints the match with the lowest absdiff\n",
    "    return match"
   ]
  },
  {
   "cell_type": "code",
   "execution_count": 4,
   "metadata": {},
   "outputs": [
    {
     "name": "stdout",
     "output_type": "stream",
     "text": [
      "The most likely suit match is: spade\n"
     ]
    }
   ],
   "source": [
    "bestMatch = suitComparison(club, diamond, heart, spade, inputTestImage)\n",
    "print(\"The most likely suit match is:\", bestMatch)"
   ]
  },
  {
   "cell_type": "code",
   "execution_count": null,
   "metadata": {},
   "outputs": [],
   "source": []
  },
  {
   "cell_type": "code",
   "execution_count": null,
   "metadata": {},
   "outputs": [],
   "source": []
  }
 ],
 "metadata": {
  "kernelspec": {
   "display_name": "Python 3",
   "language": "python",
   "name": "python3"
  },
  "language_info": {
   "codemirror_mode": {
    "name": "ipython",
    "version": 3
   },
   "file_extension": ".py",
   "mimetype": "text/x-python",
   "name": "python",
   "nbconvert_exporter": "python",
   "pygments_lexer": "ipython3",
   "version": "3.8.3"
  }
 },
 "nbformat": 4,
 "nbformat_minor": 4
}

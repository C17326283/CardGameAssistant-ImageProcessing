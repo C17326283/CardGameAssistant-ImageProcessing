{
 "metadata": {
  "language_info": {
   "codemirror_mode": {
    "name": "ipython",
    "version": 3
   },
   "file_extension": ".py",
   "mimetype": "text/x-python",
   "name": "python",
   "nbconvert_exporter": "python",
   "pygments_lexer": "ipython3",
   "version": "3.8.5-final"
  },
  "orig_nbformat": 2,
  "kernelspec": {
   "name": "python3",
   "display_name": "Python 3"
  }
 },
 "nbformat": 4,
 "nbformat_minor": 2,
 "cells": [
  {
   "cell_type": "code",
   "execution_count": 21,
   "metadata": {},
   "outputs": [],
   "source": [
    "import cv2\n"
   ]
  },
  {
   "cell_type": "code",
   "execution_count": 26,
   "metadata": {},
   "outputs": [],
   "source": [
    "  im = cv2.imread(\"cards.jpg\")\n",
    "  gray = cv2.cvtColor(im,cv2.COLOR_BGR2GRAY)\n",
    "  #blur = cv2.GaussianBlur(gray,(1,1),1000)\n",
    "  flag, thresh = cv2.threshold(blur, 120, 255, cv2.THRESH_BINARY)\n",
    "\n",
    "  contours, hierarchy = cv2.findContours(thresh,cv2.RETR_TREE,cv2.CHAIN_APPROX_SIMPLE)\n",
    "\n",
    "  cv2.drawContours(thresh,contours,-1,(255,80,30),3)\n",
    "  highlight = cv2.cvtColor(im,cv2.COLOR_GRAY2BGR)\n",
    "  cv2.imshow(\"image\", thresh)\n",
    "  key = cv2.waitKey(0)"
   ]
  },
  {
   "cell_type": "code",
   "execution_count": null,
   "metadata": {},
   "outputs": [],
   "source": []
  }
 ]
}
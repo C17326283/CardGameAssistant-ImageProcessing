{
 "metadata": {
  "language_info": {
   "codemirror_mode": {
    "name": "ipython",
    "version": 3
   },
   "file_extension": ".py",
   "mimetype": "text/x-python",
   "name": "python",
   "nbconvert_exporter": "python",
   "pygments_lexer": "ipython3",
   "version": "3.8.5-final"
  },
  "orig_nbformat": 2,
  "kernelspec": {
   "name": "python3",
   "display_name": "Python 3"
  }
 },
 "nbformat": 4,
 "nbformat_minor": 2,
 "cells": [
  {
   "cell_type": "code",
   "execution_count": 1,
   "metadata": {},
   "outputs": [],
   "source": [
    "import cv2\n"
   ]
  },
  {
   "cell_type": "code",
   "execution_count": 2,
   "metadata": {},
   "outputs": [],
   "source": [
    "img = cv2.imread(\"cards.jpg\")\n",
    "G = cv2.cvtColor(img, cv2.COLOR_BGR2GRAY)\n",
    "T = 165\n",
    "T, B = cv2.threshold(G, thresh = T, maxval = 255, type = cv2.THRESH_BINARY)\n",
    "cv2.namedWindow('Cards', cv2.WINDOW_NORMAL)\n",
    "cv2.resizeWindow('Cards', 800,950)\n",
    "cv2.imshow(\"Cards\", B)\n",
    "key = cv2.waitKey(0)\n",
    "cv2.destroyAllWindows()"
   ]
  },
  {
   "cell_type": "code",
   "execution_count": null,
   "metadata": {},
   "outputs": [],
   "source": []
  }
 ]
}